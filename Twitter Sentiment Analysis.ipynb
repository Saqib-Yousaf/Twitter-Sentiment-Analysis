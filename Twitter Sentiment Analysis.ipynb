{
 "cells": [
  {
   "cell_type": "code",
   "execution_count": 1,
   "id": "3eb51bee",
   "metadata": {},
   "outputs": [],
   "source": [
    "import numpy as np\n",
    "import pandas as pd"
   ]
  },
  {
   "cell_type": "code",
   "execution_count": 2,
   "id": "7192e243",
   "metadata": {},
   "outputs": [],
   "source": [
    "# Visualization\n",
    "import matplotlib.pyplot as plt\n",
    "import seaborn as sns"
   ]
  },
  {
   "cell_type": "code",
   "execution_count": 3,
   "id": "fb656298",
   "metadata": {},
   "outputs": [],
   "source": [
    "# NLP\n",
    "import nltk\n",
    "from nltk.corpus import stopwords\n",
    "from nltk.tokenize import word_tokenize\n",
    "from nltk.stem import WordNetLemmatizer"
   ]
  },
  {
   "cell_type": "code",
   "execution_count": 4,
   "id": "eb8d3ed8",
   "metadata": {},
   "outputs": [],
   "source": [
    "# Text Vectorization\n",
    "from sklearn.feature_extraction.text import TfidfVectorizer"
   ]
  },
  {
   "cell_type": "code",
   "execution_count": 5,
   "id": "10ccb8c3",
   "metadata": {},
   "outputs": [],
   "source": [
    "# Model Selection\n",
    "from sklearn.model_selection import train_test_split"
   ]
  },
  {
   "cell_type": "code",
   "execution_count": 6,
   "id": "fda6faf5",
   "metadata": {},
   "outputs": [],
   "source": [
    "# Classifiers\n",
    "from sklearn.linear_model import LogisticRegression"
   ]
  },
  {
   "cell_type": "code",
   "execution_count": 7,
   "id": "9b7f5c7b",
   "metadata": {},
   "outputs": [],
   "source": [
    "# Classification Reports\n",
    "from sklearn.metrics import classification_report\n",
    "from sklearn.metrics import confusion_matrix, accuracy_score"
   ]
  },
  {
   "cell_type": "code",
   "execution_count": 8,
   "id": "183309a4",
   "metadata": {},
   "outputs": [],
   "source": [
    "# Warnings\n",
    "import warnings\n",
    "\n",
    "#Settings\n",
    "warnings.filterwarnings('ignore')\n",
    "%matplotlib inline"
   ]
  },
  {
   "cell_type": "code",
   "execution_count": 9,
   "id": "db819dd0",
   "metadata": {},
   "outputs": [
    {
     "name": "stderr",
     "output_type": "stream",
     "text": [
      "[nltk_data] Downloading package stopwords to\n",
      "[nltk_data]     C:\\Users\\Mahad\\AppData\\Roaming\\nltk_data...\n",
      "[nltk_data]   Package stopwords is already up-to-date!\n"
     ]
    },
    {
     "data": {
      "text/plain": [
       "True"
      ]
     },
     "execution_count": 9,
     "metadata": {},
     "output_type": "execute_result"
    }
   ],
   "source": [
    "nltk.download('stopwords')"
   ]
  },
  {
   "cell_type": "code",
   "execution_count": 10,
   "id": "888d60ef",
   "metadata": {},
   "outputs": [],
   "source": [
    "tweets_train = pd.read_csv('train_E6oV3lV.csv')\n",
    "tweets_test = pd.read_csv('test_tweets_anuFYb8.csv')"
   ]
  },
  {
   "cell_type": "code",
   "execution_count": 11,
   "id": "91df2efd",
   "metadata": {},
   "outputs": [
    {
     "data": {
      "text/html": [
       "<div>\n",
       "<style scoped>\n",
       "    .dataframe tbody tr th:only-of-type {\n",
       "        vertical-align: middle;\n",
       "    }\n",
       "\n",
       "    .dataframe tbody tr th {\n",
       "        vertical-align: top;\n",
       "    }\n",
       "\n",
       "    .dataframe thead th {\n",
       "        text-align: right;\n",
       "    }\n",
       "</style>\n",
       "<table border=\"1\" class=\"dataframe\">\n",
       "  <thead>\n",
       "    <tr style=\"text-align: right;\">\n",
       "      <th></th>\n",
       "      <th>id</th>\n",
       "      <th>label</th>\n",
       "      <th>tweet</th>\n",
       "    </tr>\n",
       "  </thead>\n",
       "  <tbody>\n",
       "    <tr>\n",
       "      <th>0</th>\n",
       "      <td>1</td>\n",
       "      <td>0</td>\n",
       "      <td>@user when a father is dysfunctional and is s...</td>\n",
       "    </tr>\n",
       "    <tr>\n",
       "      <th>1</th>\n",
       "      <td>2</td>\n",
       "      <td>0</td>\n",
       "      <td>@user @user thanks for #lyft credit i can't us...</td>\n",
       "    </tr>\n",
       "    <tr>\n",
       "      <th>2</th>\n",
       "      <td>3</td>\n",
       "      <td>0</td>\n",
       "      <td>bihday your majesty</td>\n",
       "    </tr>\n",
       "    <tr>\n",
       "      <th>3</th>\n",
       "      <td>4</td>\n",
       "      <td>0</td>\n",
       "      <td>#model   i love u take with u all the time in ...</td>\n",
       "    </tr>\n",
       "    <tr>\n",
       "      <th>4</th>\n",
       "      <td>5</td>\n",
       "      <td>0</td>\n",
       "      <td>factsguide: society now    #motivation</td>\n",
       "    </tr>\n",
       "  </tbody>\n",
       "</table>\n",
       "</div>"
      ],
      "text/plain": [
       "   id  label                                              tweet\n",
       "0   1      0   @user when a father is dysfunctional and is s...\n",
       "1   2      0  @user @user thanks for #lyft credit i can't us...\n",
       "2   3      0                                bihday your majesty\n",
       "3   4      0  #model   i love u take with u all the time in ...\n",
       "4   5      0             factsguide: society now    #motivation"
      ]
     },
     "execution_count": 11,
     "metadata": {},
     "output_type": "execute_result"
    }
   ],
   "source": [
    "tweets_train.head()"
   ]
  },
  {
   "cell_type": "code",
   "execution_count": 12,
   "id": "a908902c",
   "metadata": {},
   "outputs": [
    {
     "name": "stdout",
     "output_type": "stream",
     "text": [
      "<class 'pandas.core.frame.DataFrame'>\n",
      "RangeIndex: 31962 entries, 0 to 31961\n",
      "Data columns (total 3 columns):\n",
      " #   Column  Non-Null Count  Dtype \n",
      "---  ------  --------------  ----- \n",
      " 0   id      31962 non-null  int64 \n",
      " 1   label   31962 non-null  int64 \n",
      " 2   tweet   31962 non-null  object\n",
      "dtypes: int64(2), object(1)\n",
      "memory usage: 749.2+ KB\n"
     ]
    }
   ],
   "source": [
    "tweets_train.info()"
   ]
  },
  {
   "cell_type": "code",
   "execution_count": 13,
   "id": "6072ecf8",
   "metadata": {},
   "outputs": [
    {
     "data": {
      "text/plain": [
       "label\n",
       "0    29720\n",
       "1     2242\n",
       "Name: count, dtype: int64"
      ]
     },
     "execution_count": 13,
     "metadata": {},
     "output_type": "execute_result"
    }
   ],
   "source": [
    "tweets_train['label'].value_counts()"
   ]
  },
  {
   "cell_type": "code",
   "execution_count": 14,
   "id": "28c586e1",
   "metadata": {},
   "outputs": [
    {
     "data": {
      "text/plain": [
       "<Axes: xlabel='label', ylabel='count'>"
      ]
     },
     "execution_count": 14,
     "metadata": {},
     "output_type": "execute_result"
    },
    {
     "data": {
      "image/png": "[encoded data removed]",
      "text/plain": [
       "<Figure size 640x480 with 1 Axes>"
      ]
     },
     "metadata": {},
     "output_type": "display_data"
    }
   ],
   "source": [
    "sns.countplot(x= 'label', data= tweets_train)"
   ]
  },
  {
   "cell_type": "code",
   "execution_count": 15,
   "id": "af998ff0",
   "metadata": {},
   "outputs": [
    {
     "data": {
      "text/html": [
       "<div>\n",
       "<style scoped>\n",
       "    .dataframe tbody tr th:only-of-type {\n",
       "        vertical-align: middle;\n",
       "    }\n",
       "\n",
       "    .dataframe tbody tr th {\n",
       "        vertical-align: top;\n",
       "    }\n",
       "\n",
       "    .dataframe thead th {\n",
       "        text-align: right;\n",
       "    }\n",
       "</style>\n",
       "<table border=\"1\" class=\"dataframe\">\n",
       "  <thead>\n",
       "    <tr style=\"text-align: right;\">\n",
       "      <th></th>\n",
       "      <th>id</th>\n",
       "      <th>label</th>\n",
       "      <th>tweet</th>\n",
       "    </tr>\n",
       "  </thead>\n",
       "  <tbody>\n",
       "    <tr>\n",
       "      <th>27957</th>\n",
       "      <td>27958</td>\n",
       "      <td>0</td>\n",
       "      <td>@user @user it sure has going to be amazing  ...</td>\n",
       "    </tr>\n",
       "    <tr>\n",
       "      <th>17573</th>\n",
       "      <td>17574</td>\n",
       "      <td>0</td>\n",
       "      <td>unpacked. opened all the windows. sweater on.</td>\n",
       "    </tr>\n",
       "    <tr>\n",
       "      <th>22584</th>\n",
       "      <td>22585</td>\n",
       "      <td>0</td>\n",
       "      <td>@user haha!! omg he's so happy!!</td>\n",
       "    </tr>\n",
       "    <tr>\n",
       "      <th>23766</th>\n",
       "      <td>23767</td>\n",
       "      <td>0</td>\n",
       "      <td>@user @user   bihday commandoo</td>\n",
       "    </tr>\n",
       "    <tr>\n",
       "      <th>27777</th>\n",
       "      <td>27778</td>\n",
       "      <td>0</td>\n",
       "      <td>all good live long   bihday@user</td>\n",
       "    </tr>\n",
       "    <tr>\n",
       "      <th>...</th>\n",
       "      <td>...</td>\n",
       "      <td>...</td>\n",
       "      <td>...</td>\n",
       "    </tr>\n",
       "    <tr>\n",
       "      <th>4257</th>\n",
       "      <td>4258</td>\n",
       "      <td>0</td>\n",
       "      <td>@user mine did too!!!! and my middle from midd...</td>\n",
       "    </tr>\n",
       "    <tr>\n",
       "      <th>3371</th>\n",
       "      <td>3372</td>\n",
       "      <td>0</td>\n",
       "      <td>out of office #coffee #sun   @ maspalomas</td>\n",
       "    </tr>\n",
       "    <tr>\n",
       "      <th>6025</th>\n",
       "      <td>6026</td>\n",
       "      <td>0</td>\n",
       "      <td>guys! i'm out of the house and i don't have a ...</td>\n",
       "    </tr>\n",
       "    <tr>\n",
       "      <th>25906</th>\n",
       "      <td>25907</td>\n",
       "      <td>0</td>\n",
       "      <td>half way through the website update #goingwell...</td>\n",
       "    </tr>\n",
       "    <tr>\n",
       "      <th>4435</th>\n",
       "      <td>4436</td>\n",
       "      <td>1</td>\n",
       "      <td>@user who the hell is juan to decide if kellya...</td>\n",
       "    </tr>\n",
       "  </tbody>\n",
       "</table>\n",
       "<p>100 rows × 3 columns</p>\n",
       "</div>"
      ],
      "text/plain": [
       "          id  label                                              tweet\n",
       "27957  27958      0   @user @user it sure has going to be amazing  ...\n",
       "17573  17574      0    unpacked. opened all the windows. sweater on.  \n",
       "22584  22585      0                  @user haha!! omg he's so happy!! \n",
       "23766  23767      0                     @user @user   bihday commandoo\n",
       "27777  27778      0                   all good live long   bihday@user\n",
       "...      ...    ...                                                ...\n",
       "4257    4258      0  @user mine did too!!!! and my middle from midd...\n",
       "3371    3372      0         out of office #coffee #sun   @ maspalomas \n",
       "6025    6026      0  guys! i'm out of the house and i don't have a ...\n",
       "25906  25907      0  half way through the website update #goingwell...\n",
       "4435    4436      1  @user who the hell is juan to decide if kellya...\n",
       "\n",
       "[100 rows x 3 columns]"
      ]
     },
     "execution_count": 15,
     "metadata": {},
     "output_type": "execute_result"
    }
   ],
   "source": [
    "# Creating a sample data from training data points\n",
    "sample = tweets_train.sample(n= 100, random_state=155)\n",
    "sample"
   ]
  },
  {
   "cell_type": "code",
   "execution_count": 16,
   "id": "9e173375",
   "metadata": {},
   "outputs": [
    {
     "name": "stdout",
     "output_type": "stream",
     "text": [
      "Requirement already satisfied: tweet-preprocessor in c:\\users\\mahad\\anaconda3\\lib\\site-packages (0.6.0)\n"
     ]
    }
   ],
   "source": [
    "!pip install tweet-preprocessor"
   ]
  },
  {
   "cell_type": "code",
   "execution_count": 17,
   "id": "eb052181",
   "metadata": {},
   "outputs": [],
   "source": [
    "import preprocessor as p\n",
    "sample['text'] = sample['tweet'].apply(lambda x: p.clean(x))\n",
    "\n",
    "# the clean method of the preprocessor package can be used to eliminate symbols like #,@ and the urls"
   ]
  },
  {
   "cell_type": "code",
   "execution_count": 18,
   "id": "783ff04a",
   "metadata": {},
   "outputs": [
    {
     "name": "stdout",
     "output_type": "stream",
     "text": [
      "Collecting contractions\n",
      "  Obtaining dependency information for contractions from https://files.pythonhosted.org/packages/bb/e4/725241b788963b460ce0118bfd5c505dd3d1bdd020ee740f9f39044ed4a7/contractions-0.1.73-py2.py3-none-any.whl.metadata\n",
      "  Downloading contractions-0.1.73-py2.py3-none-any.whl.metadata (1.2 kB)\n",
      "Collecting textsearch>=0.0.21 (from contractions)\n",
      "  Obtaining dependency information for textsearch>=0.0.21 from https://files.pythonhosted.org/packages/e2/0f/6f08dd89e9d71380a369b1f5b6c97a32d62fc9cfacc1c5b8329505b9e495/textsearch-0.0.24-py2.py3-none-any.whl.metadata\n",
      "  Downloading textsearch-0.0.24-py2.py3-none-any.whl.metadata (1.2 kB)\n",
      "Collecting anyascii (from textsearch>=0.0.21->contractions)\n",
      "  Obtaining dependency information for anyascii from https://files.pythonhosted.org/packages/4f/7b/a9a747e0632271d855da379532b05a62c58e979813814a57fa3b3afeb3a4/anyascii-0.3.2-py3-none-any.whl.metadata\n",
      "  Downloading anyascii-0.3.2-py3-none-any.whl.metadata (1.5 kB)\n",
      "Collecting pyahocorasick (from textsearch>=0.0.21->contractions)\n",
      "  Obtaining dependency information for pyahocorasick from https://files.pythonhosted.org/packages/36/76/d83c60ec7a202cbfeffaa9649d0fee6ddcb974622e411b86211ff3572549/pyahocorasick-2.1.0-cp311-cp311-win_amd64.whl.metadata\n",
      "  Downloading pyahocorasick-2.1.0-cp311-cp311-win_amd64.whl.metadata (13 kB)\n",
      "Downloading contractions-0.1.73-py2.py3-none-any.whl (8.7 kB)\n",
      "Downloading textsearch-0.0.24-py2.py3-none-any.whl (7.6 kB)\n",
      "Downloading anyascii-0.3.2-py3-none-any.whl (289 kB)\n",
      "   ---------------------------------------- 0.0/289.9 kB ? eta -:--:--\n",
      "   -------- ------------------------------- 61.4/289.9 kB 1.7 MB/s eta 0:00:01\n",
      "   ---------------- ----------------------- 122.9/289.9 kB 1.4 MB/s eta 0:00:01\n",
      "   -------------------------- ------------- 194.6/289.9 kB 1.5 MB/s eta 0:00:01\n",
      "   ---------------------------------------  286.7/289.9 kB 2.0 MB/s eta 0:00:01\n",
      "   ---------------------------------------- 289.9/289.9 kB 1.6 MB/s eta 0:00:00\n",
      "Downloading pyahocorasick-2.1.0-cp311-cp311-win_amd64.whl (39 kB)\n",
      "Installing collected packages: pyahocorasick, anyascii, textsearch, contractions\n",
      "Successfully installed anyascii-0.3.2 contractions-0.1.73 pyahocorasick-2.1.0 textsearch-0.0.24\n"
     ]
    }
   ],
   "source": [
    "!pip install contractions"
   ]
  },
  {
   "cell_type": "code",
   "execution_count": 19,
   "id": "1c446992",
   "metadata": {},
   "outputs": [],
   "source": [
    "import contractions\n",
    "\n",
    "def expand_contractions(text):\n",
    "    \"\"\"expand shortened words, e.g. don't to do not\"\"\"\n",
    "    text = contractions.fix(text)\n",
    "    return text"
   ]
  },
  {
   "cell_type": "code",
   "execution_count": 20,
   "id": "c4c589b0",
   "metadata": {},
   "outputs": [],
   "source": [
    "sample[\"text\"] = sample[\"text\"].apply(expand_contractions)"
   ]
  },
  {
   "cell_type": "code",
   "execution_count": 21,
   "id": "a0284e95",
   "metadata": {},
   "outputs": [],
   "source": [
    "wordnet_lemmatizer = WordNetLemmatizer() #initialising the lemmatizer function"
   ]
  },
  {
   "cell_type": "code",
   "execution_count": 22,
   "id": "1917aa7c",
   "metadata": {},
   "outputs": [],
   "source": [
    "def my_normalizer(df):\n",
    "  #lowercase the input text\n",
    "  s = df.lower()\n",
    "\n",
    "  #tokenize (split string into words)\n",
    "  tokens = nltk.tokenize.word_tokenize(df)\n",
    "\n",
    "  #remove short words less than or equal to 2\n",
    "  tokens = [t for t in tokens if len(t) > 2]\n",
    "\n",
    "  #lemmatazing words (put words into base form)\n",
    "  tokens = [wordnet_lemmatizer.lemmatize(t) for t in tokens]\n",
    "\n",
    "  #remove stopwords\n",
    "  tokens = [t for t in tokens if t not in set(stopwords.words('english'))]\n",
    "\n",
    "  #remove digits\n",
    "  tokens = [t for t in tokens if not any(c.isdigit() for c in t)]\n",
    "\n",
    "  return tokens"
   ]
  },
  {
   "cell_type": "code",
   "execution_count": 23,
   "id": "1e18f18f",
   "metadata": {},
   "outputs": [
    {
     "name": "stderr",
     "output_type": "stream",
     "text": [
      "[nltk_data] Downloading package punkt to\n",
      "[nltk_data]     C:\\Users\\Mahad\\AppData\\Roaming\\nltk_data...\n",
      "[nltk_data]   Package punkt is already up-to-date!\n",
      "[nltk_data] Downloading package wordnet to\n",
      "[nltk_data]     C:\\Users\\Mahad\\AppData\\Roaming\\nltk_data...\n",
      "[nltk_data]   Package wordnet is already up-to-date!\n"
     ]
    }
   ],
   "source": [
    "#applying my_normalizer\n",
    "nltk.download('punkt')\n",
    "nltk.download('wordnet')\n",
    "\n",
    "sample[\"final_text\"] = sample[\"text\"].apply(my_normalizer)"
   ]
  },
  {
   "cell_type": "code",
   "execution_count": 24,
   "id": "ab73c04e",
   "metadata": {},
   "outputs": [],
   "source": [
    "#extract word from the list\n",
    "sample['final_text'] = sample['final_text'].apply(lambda x : ' '.join(x))"
   ]
  },
  {
   "cell_type": "code",
   "execution_count": 25,
   "id": "0746de0d",
   "metadata": {},
   "outputs": [
    {
     "data": {
      "text/plain": [
       "array(['sure ha going amazing xxx', 'unpacked opened window sweater',\n",
       "       'haha omg happy', 'bihday commandoo', 'good live long bihday',\n",
       "       'happy',\n",
       "       'skype nokia microsoft ha decided screw-up acquire linkedin',\n",
       "       'teaching tonight light', 'waiting friend finish shift ...',\n",
       "       'got first real job interview week',\n",
       "       'going poor next year woh end',\n",
       "       'living street extra tree improve happiness much year younger',\n",
       "       'welcome', \"ever made choice turn 'negative light head\",\n",
       "       'get request communalise much anger', 'make', 'get get get',\n",
       "       'many shit talkers/bullies youtube comment section',\n",
       "       'ontiatn wa today exam vaccine dr. latimer happy boy',\n",
       "       'father day dad involved york schoolboy'], dtype=object)"
      ]
     },
     "execution_count": 25,
     "metadata": {},
     "output_type": "execute_result"
    }
   ],
   "source": [
    "sample['final_text'].values[:20]"
   ]
  },
  {
   "cell_type": "markdown",
   "id": "0f4dd861",
   "metadata": {},
   "source": [
    "## Applying Text Preprocessing to the entire Corpus"
   ]
  },
  {
   "cell_type": "code",
   "execution_count": 30,
   "id": "be9a2d09",
   "metadata": {},
   "outputs": [],
   "source": [
    "#Removing url, #, and @\n",
    "tweets_train['text'] = tweets_train['tweet'].apply(lambda x: p.clean(x))"
   ]
  },
  {
   "cell_type": "code",
   "execution_count": 31,
   "id": "6cd95516",
   "metadata": {},
   "outputs": [],
   "source": [
    "#expanding contractions\n",
    "tweets_train[\"text\"] = tweets_train[\"text\"].apply(expand_contractions)"
   ]
  },
  {
   "cell_type": "code",
   "execution_count": 32,
   "id": "64f3e7e0",
   "metadata": {},
   "outputs": [],
   "source": [
    "#applying my_normalizer\n",
    "tweets_train['text'] = tweets_train[\"text\"].apply(my_normalizer)"
   ]
  },
  {
   "cell_type": "code",
   "execution_count": 33,
   "id": "1761d373",
   "metadata": {},
   "outputs": [],
   "source": [
    "#extract word from the list\n",
    "tweets_train['text'] = tweets_train['text'].apply(lambda x : ' '.join(x))"
   ]
  },
  {
   "cell_type": "markdown",
   "id": "72534bc2",
   "metadata": {},
   "source": [
    "## Prepare Data for Machine Learning Models"
   ]
  },
  {
   "cell_type": "code",
   "execution_count": 34,
   "id": "88074ea2",
   "metadata": {},
   "outputs": [],
   "source": [
    "#dependent and independent variables\n",
    "\n",
    "X = tweets_train['text']\n",
    "y = tweets_train['label']"
   ]
  },
  {
   "cell_type": "code",
   "execution_count": 35,
   "id": "6bd3b907",
   "metadata": {},
   "outputs": [],
   "source": [
    "#tfidf vectorizer\n",
    "vectorizer = TfidfVectorizer(min_df = 3)\n",
    "X_vectorized = vectorizer.fit_transform(X)"
   ]
  },
  {
   "cell_type": "code",
   "execution_count": 36,
   "id": "9bcc5ef5",
   "metadata": {},
   "outputs": [
    {
     "name": "stdout",
     "output_type": "stream",
     "text": [
      "Vocabulary len: 6193\n",
      "Longest word: nationalbestfriendday\n"
     ]
    }
   ],
   "source": [
    "print('Vocabulary len:', len(vectorizer.get_feature_names_out()))\n",
    "print('Longest word:', max(vectorizer.vocabulary_, key=len))"
   ]
  },
  {
   "cell_type": "code",
   "execution_count": 37,
   "id": "4dff55ad",
   "metadata": {},
   "outputs": [],
   "source": [
    "#train test split\n",
    "X_train, X_test, y_train, y_test = train_test_split(X_vectorized, y, \n",
    "                                                    shuffle = True, \n",
    "                                                    test_size = 0.33, \n",
    "                                                    random_state = 42)"
   ]
  },
  {
   "cell_type": "code",
   "execution_count": 38,
   "id": "efd3d6be",
   "metadata": {},
   "outputs": [
    {
     "name": "stdout",
     "output_type": "stream",
     "text": [
      "Confusion Matrix for Logistic Regression:\n",
      "[[9785   21]\n",
      " [ 588  154]]\n",
      "Score: 94.23\n",
      "Classification Report:\n",
      "              precision    recall  f1-score   support\n",
      "\n",
      "           0       0.94      1.00      0.97      9806\n",
      "           1       0.88      0.21      0.34       742\n",
      "\n",
      "    accuracy                           0.94     10548\n",
      "   macro avg       0.91      0.60      0.65     10548\n",
      "weighted avg       0.94      0.94      0.93     10548\n",
      "\n"
     ]
    }
   ],
   "source": [
    "lr = LogisticRegression()\n",
    "lr.fit(X_train, y_train)\n",
    "\n",
    "y_pred_lr = lr.predict(X_test)\n",
    "\n",
    "#evaluation\n",
    "print(\"Confusion Matrix for Logistic Regression:\")\n",
    "print(confusion_matrix(y_test,y_pred_lr))\n",
    "print(\"Score:\",round(accuracy_score(y_test,y_pred_lr) * 100, 2))\n",
    "print(\"Classification Report:\")\n",
    "print(classification_report(y_test,y_pred_lr))"
   ]
  },
  {
   "cell_type": "code",
   "execution_count": null,
   "id": "133bb313",
   "metadata": {},
   "outputs": [],
   "source": []
  }
 ],
 "metadata": {
  "kernelspec": {
   "display_name": "Python 3 (ipykernel)",
   "language": "python",
   "name": "python3"
  },
  "language_info": {
   "codemirror_mode": {
    "name": "ipython",
    "version": 3
   },
   "file_extension": ".py",
   "mimetype": "text/x-python",
   "name": "python",
   "nbconvert_exporter": "python",
   "pygments_lexer": "ipython3",
   "version": "3.11.4"
  }
 },
 "nbformat": 4,
 "nbformat_minor": 5
}
